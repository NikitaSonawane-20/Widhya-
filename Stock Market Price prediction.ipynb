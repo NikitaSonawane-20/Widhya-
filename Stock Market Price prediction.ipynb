{
 "cells": [
  {
   "cell_type": "markdown",
   "metadata": {},
   "source": [
    "# Week 2\n",
    "\n",
    "## Task 2 : Stock price prediction using linear regression"
   ]
  },
  {
   "cell_type": "code",
   "execution_count": 1,
   "metadata": {},
   "outputs": [],
   "source": [
    "# Import the quandl package\n",
    "import quandl\n",
    "import pandas as pd\n",
    "import matplotlib.pyplot as plt\n",
    "from warnings import filterwarnings\n",
    "filterwarnings('ignore')"
   ]
  },
  {
   "cell_type": "markdown",
   "metadata": {},
   "source": [
    "## Data Collection and Analysis"
   ]
  },
  {
   "cell_type": "code",
   "execution_count": 2,
   "metadata": {},
   "outputs": [],
   "source": [
    "# Get the data from quandl\n",
    "df = pd.read_csv('C:/Users/NIKITA/Desktop/EOD-AAPL.csv')"
   ]
  },
  {
   "cell_type": "code",
   "execution_count": 3,
   "metadata": {},
   "outputs": [
    {
     "data": {
      "text/html": [
       "<div>\n",
       "<style scoped>\n",
       "    .dataframe tbody tr th:only-of-type {\n",
       "        vertical-align: middle;\n",
       "    }\n",
       "\n",
       "    .dataframe tbody tr th {\n",
       "        vertical-align: top;\n",
       "    }\n",
       "\n",
       "    .dataframe thead th {\n",
       "        text-align: right;\n",
       "    }\n",
       "</style>\n",
       "<table border=\"1\" class=\"dataframe\">\n",
       "  <thead>\n",
       "    <tr style=\"text-align: right;\">\n",
       "      <th></th>\n",
       "      <th>Date</th>\n",
       "      <th>Open</th>\n",
       "      <th>High</th>\n",
       "      <th>Low</th>\n",
       "      <th>Close</th>\n",
       "      <th>Volume</th>\n",
       "      <th>Dividend</th>\n",
       "      <th>Split</th>\n",
       "      <th>Adj_Open</th>\n",
       "      <th>Adj_High</th>\n",
       "      <th>Adj_Low</th>\n",
       "      <th>Adj_Close</th>\n",
       "      <th>Adj_Volume</th>\n",
       "    </tr>\n",
       "  </thead>\n",
       "  <tbody>\n",
       "    <tr>\n",
       "      <th>0</th>\n",
       "      <td>2017-12-28</td>\n",
       "      <td>171.00</td>\n",
       "      <td>171.850</td>\n",
       "      <td>170.480</td>\n",
       "      <td>171.08</td>\n",
       "      <td>16480187.0</td>\n",
       "      <td>0.0</td>\n",
       "      <td>1.0</td>\n",
       "      <td>41.136972</td>\n",
       "      <td>41.341454</td>\n",
       "      <td>41.011877</td>\n",
       "      <td>41.156217</td>\n",
       "      <td>65920748.0</td>\n",
       "    </tr>\n",
       "    <tr>\n",
       "      <th>1</th>\n",
       "      <td>2017-12-27</td>\n",
       "      <td>170.10</td>\n",
       "      <td>170.780</td>\n",
       "      <td>169.710</td>\n",
       "      <td>170.60</td>\n",
       "      <td>21498213.0</td>\n",
       "      <td>0.0</td>\n",
       "      <td>1.0</td>\n",
       "      <td>40.920461</td>\n",
       "      <td>41.084047</td>\n",
       "      <td>40.826640</td>\n",
       "      <td>41.040745</td>\n",
       "      <td>85992852.0</td>\n",
       "    </tr>\n",
       "    <tr>\n",
       "      <th>2</th>\n",
       "      <td>2017-12-26</td>\n",
       "      <td>170.80</td>\n",
       "      <td>171.470</td>\n",
       "      <td>169.679</td>\n",
       "      <td>170.57</td>\n",
       "      <td>33185536.0</td>\n",
       "      <td>0.0</td>\n",
       "      <td>1.0</td>\n",
       "      <td>41.088858</td>\n",
       "      <td>41.250038</td>\n",
       "      <td>40.819183</td>\n",
       "      <td>41.033528</td>\n",
       "      <td>132742144.0</td>\n",
       "    </tr>\n",
       "    <tr>\n",
       "      <th>3</th>\n",
       "      <td>2017-12-22</td>\n",
       "      <td>174.68</td>\n",
       "      <td>175.424</td>\n",
       "      <td>174.500</td>\n",
       "      <td>175.01</td>\n",
       "      <td>16349444.0</td>\n",
       "      <td>0.0</td>\n",
       "      <td>1.0</td>\n",
       "      <td>42.022259</td>\n",
       "      <td>42.201241</td>\n",
       "      <td>41.978957</td>\n",
       "      <td>42.101646</td>\n",
       "      <td>65397776.0</td>\n",
       "    </tr>\n",
       "    <tr>\n",
       "      <th>4</th>\n",
       "      <td>2017-12-21</td>\n",
       "      <td>174.17</td>\n",
       "      <td>176.020</td>\n",
       "      <td>174.100</td>\n",
       "      <td>175.01</td>\n",
       "      <td>20949896.0</td>\n",
       "      <td>0.0</td>\n",
       "      <td>1.0</td>\n",
       "      <td>41.899570</td>\n",
       "      <td>42.344619</td>\n",
       "      <td>41.882730</td>\n",
       "      <td>42.101646</td>\n",
       "      <td>83799584.0</td>\n",
       "    </tr>\n",
       "  </tbody>\n",
       "</table>\n",
       "</div>"
      ],
      "text/plain": [
       "         Date    Open     High      Low   Close      Volume  Dividend  Split  \\\n",
       "0  2017-12-28  171.00  171.850  170.480  171.08  16480187.0       0.0    1.0   \n",
       "1  2017-12-27  170.10  170.780  169.710  170.60  21498213.0       0.0    1.0   \n",
       "2  2017-12-26  170.80  171.470  169.679  170.57  33185536.0       0.0    1.0   \n",
       "3  2017-12-22  174.68  175.424  174.500  175.01  16349444.0       0.0    1.0   \n",
       "4  2017-12-21  174.17  176.020  174.100  175.01  20949896.0       0.0    1.0   \n",
       "\n",
       "    Adj_Open   Adj_High    Adj_Low  Adj_Close   Adj_Volume  \n",
       "0  41.136972  41.341454  41.011877  41.156217   65920748.0  \n",
       "1  40.920461  41.084047  40.826640  41.040745   85992852.0  \n",
       "2  41.088858  41.250038  40.819183  41.033528  132742144.0  \n",
       "3  42.022259  42.201241  41.978957  42.101646   65397776.0  \n",
       "4  41.899570  42.344619  41.882730  42.101646   83799584.0  "
      ]
     },
     "execution_count": 3,
     "metadata": {},
     "output_type": "execute_result"
    }
   ],
   "source": [
    "# Print first five rows of dataset\n",
    "df.head()"
   ]
  },
  {
   "cell_type": "code",
   "execution_count": 4,
   "metadata": {},
   "outputs": [
    {
     "data": {
      "text/plain": [
       "(1090, 13)"
      ]
     },
     "execution_count": 4,
     "metadata": {},
     "output_type": "execute_result"
    }
   ],
   "source": [
    "# Shape of dataset \n",
    "df.shape"
   ]
  },
  {
   "cell_type": "code",
   "execution_count": 5,
   "metadata": {},
   "outputs": [
    {
     "name": "stdout",
     "output_type": "stream",
     "text": [
      "<class 'pandas.core.frame.DataFrame'>\n",
      "RangeIndex: 1090 entries, 0 to 1089\n",
      "Data columns (total 13 columns):\n",
      " #   Column      Non-Null Count  Dtype  \n",
      "---  ------      --------------  -----  \n",
      " 0   Date        1090 non-null   object \n",
      " 1   Open        1090 non-null   float64\n",
      " 2   High        1090 non-null   float64\n",
      " 3   Low         1090 non-null   float64\n",
      " 4   Close       1090 non-null   float64\n",
      " 5   Volume      1090 non-null   float64\n",
      " 6   Dividend    1090 non-null   float64\n",
      " 7   Split       1090 non-null   float64\n",
      " 8   Adj_Open    1090 non-null   float64\n",
      " 9   Adj_High    1090 non-null   float64\n",
      " 10  Adj_Low     1090 non-null   float64\n",
      " 11  Adj_Close   1090 non-null   float64\n",
      " 12  Adj_Volume  1090 non-null   float64\n",
      "dtypes: float64(12), object(1)\n",
      "memory usage: 110.8+ KB\n"
     ]
    }
   ],
   "source": [
    "# Basic information of data\n",
    "df.info()"
   ]
  },
  {
   "cell_type": "code",
   "execution_count": 6,
   "metadata": {},
   "outputs": [],
   "source": [
    "df=df[['Adj_Open','Adj_High','Adj_Low','Adj_Close','Adj_Volume']]"
   ]
  },
  {
   "cell_type": "code",
   "execution_count": 7,
   "metadata": {
    "scrolled": true
   },
   "outputs": [],
   "source": [
    "df['HL_PCT'] = (df['Adj_High'] - df['Adj_Low'])/ df['Adj_Close']*100.0\n",
    "df['PCT_change'] = (df['Adj_Close'] - df['Adj_Open'])/ df['Adj_Open']*100.0"
   ]
  },
  {
   "cell_type": "code",
   "execution_count": 8,
   "metadata": {},
   "outputs": [
    {
     "data": {
      "text/html": [
       "<div>\n",
       "<style scoped>\n",
       "    .dataframe tbody tr th:only-of-type {\n",
       "        vertical-align: middle;\n",
       "    }\n",
       "\n",
       "    .dataframe tbody tr th {\n",
       "        vertical-align: top;\n",
       "    }\n",
       "\n",
       "    .dataframe thead th {\n",
       "        text-align: right;\n",
       "    }\n",
       "</style>\n",
       "<table border=\"1\" class=\"dataframe\">\n",
       "  <thead>\n",
       "    <tr style=\"text-align: right;\">\n",
       "      <th></th>\n",
       "      <th>Adj_Open</th>\n",
       "      <th>Adj_High</th>\n",
       "      <th>Adj_Low</th>\n",
       "      <th>Adj_Close</th>\n",
       "      <th>Adj_Volume</th>\n",
       "      <th>HL_PCT</th>\n",
       "      <th>PCT_change</th>\n",
       "    </tr>\n",
       "  </thead>\n",
       "  <tbody>\n",
       "    <tr>\n",
       "      <th>0</th>\n",
       "      <td>41.136972</td>\n",
       "      <td>41.341454</td>\n",
       "      <td>41.011877</td>\n",
       "      <td>41.156217</td>\n",
       "      <td>65920748.0</td>\n",
       "      <td>0.800795</td>\n",
       "      <td>0.046784</td>\n",
       "    </tr>\n",
       "    <tr>\n",
       "      <th>1</th>\n",
       "      <td>40.920461</td>\n",
       "      <td>41.084047</td>\n",
       "      <td>40.826640</td>\n",
       "      <td>41.040745</td>\n",
       "      <td>85992852.0</td>\n",
       "      <td>0.627198</td>\n",
       "      <td>0.293945</td>\n",
       "    </tr>\n",
       "    <tr>\n",
       "      <th>2</th>\n",
       "      <td>41.088858</td>\n",
       "      <td>41.250038</td>\n",
       "      <td>40.819183</td>\n",
       "      <td>41.033528</td>\n",
       "      <td>132742144.0</td>\n",
       "      <td>1.050009</td>\n",
       "      <td>-0.134660</td>\n",
       "    </tr>\n",
       "    <tr>\n",
       "      <th>3</th>\n",
       "      <td>42.022259</td>\n",
       "      <td>42.201241</td>\n",
       "      <td>41.978957</td>\n",
       "      <td>42.101646</td>\n",
       "      <td>65397776.0</td>\n",
       "      <td>0.527970</td>\n",
       "      <td>0.188917</td>\n",
       "    </tr>\n",
       "    <tr>\n",
       "      <th>4</th>\n",
       "      <td>41.899570</td>\n",
       "      <td>42.344619</td>\n",
       "      <td>41.882730</td>\n",
       "      <td>42.101646</td>\n",
       "      <td>83799584.0</td>\n",
       "      <td>1.097080</td>\n",
       "      <td>0.482287</td>\n",
       "    </tr>\n",
       "  </tbody>\n",
       "</table>\n",
       "</div>"
      ],
      "text/plain": [
       "    Adj_Open   Adj_High    Adj_Low  Adj_Close   Adj_Volume    HL_PCT  \\\n",
       "0  41.136972  41.341454  41.011877  41.156217   65920748.0  0.800795   \n",
       "1  40.920461  41.084047  40.826640  41.040745   85992852.0  0.627198   \n",
       "2  41.088858  41.250038  40.819183  41.033528  132742144.0  1.050009   \n",
       "3  42.022259  42.201241  41.978957  42.101646   65397776.0  0.527970   \n",
       "4  41.899570  42.344619  41.882730  42.101646   83799584.0  1.097080   \n",
       "\n",
       "   PCT_change  \n",
       "0    0.046784  \n",
       "1    0.293945  \n",
       "2   -0.134660  \n",
       "3    0.188917  \n",
       "4    0.482287  "
      ]
     },
     "execution_count": 8,
     "metadata": {},
     "output_type": "execute_result"
    }
   ],
   "source": [
    "df.head()"
   ]
  },
  {
   "cell_type": "code",
   "execution_count": 9,
   "metadata": {},
   "outputs": [],
   "source": [
    "#For above we can also use,\n",
    "#df['HL_PCT'] = (df.iloc[:,:1] - df.iloc[:,:2])/ df.iloc[[:,:3]]*100"
   ]
  },
  {
   "cell_type": "markdown",
   "metadata": {},
   "source": [
    "## Data Manipulation and Feature Engineering"
   ]
  },
  {
   "cell_type": "raw",
   "metadata": {},
   "source": [
    "After data analysis, we can conclude that 'Adj. Close','PCT_change','HL_PCT','Adj. Volume' are important features."
   ]
  },
  {
   "cell_type": "code",
   "execution_count": 10,
   "metadata": {},
   "outputs": [],
   "source": [
    "# Create dataframe of above features\n",
    "df = df[['Adj_Close','HL_PCT','Adj_Volume','PCT_change']]"
   ]
  },
  {
   "cell_type": "code",
   "execution_count": 11,
   "metadata": {},
   "outputs": [
    {
     "data": {
      "text/html": [
       "<div>\n",
       "<style scoped>\n",
       "    .dataframe tbody tr th:only-of-type {\n",
       "        vertical-align: middle;\n",
       "    }\n",
       "\n",
       "    .dataframe tbody tr th {\n",
       "        vertical-align: top;\n",
       "    }\n",
       "\n",
       "    .dataframe thead th {\n",
       "        text-align: right;\n",
       "    }\n",
       "</style>\n",
       "<table border=\"1\" class=\"dataframe\">\n",
       "  <thead>\n",
       "    <tr style=\"text-align: right;\">\n",
       "      <th></th>\n",
       "      <th>Adj_Close</th>\n",
       "      <th>HL_PCT</th>\n",
       "      <th>Adj_Volume</th>\n",
       "      <th>PCT_change</th>\n",
       "    </tr>\n",
       "  </thead>\n",
       "  <tbody>\n",
       "    <tr>\n",
       "      <th>0</th>\n",
       "      <td>41.156217</td>\n",
       "      <td>0.800795</td>\n",
       "      <td>65920748.0</td>\n",
       "      <td>0.046784</td>\n",
       "    </tr>\n",
       "    <tr>\n",
       "      <th>1</th>\n",
       "      <td>41.040745</td>\n",
       "      <td>0.627198</td>\n",
       "      <td>85992852.0</td>\n",
       "      <td>0.293945</td>\n",
       "    </tr>\n",
       "    <tr>\n",
       "      <th>2</th>\n",
       "      <td>41.033528</td>\n",
       "      <td>1.050009</td>\n",
       "      <td>132742144.0</td>\n",
       "      <td>-0.134660</td>\n",
       "    </tr>\n",
       "    <tr>\n",
       "      <th>3</th>\n",
       "      <td>42.101646</td>\n",
       "      <td>0.527970</td>\n",
       "      <td>65397776.0</td>\n",
       "      <td>0.188917</td>\n",
       "    </tr>\n",
       "    <tr>\n",
       "      <th>4</th>\n",
       "      <td>42.101646</td>\n",
       "      <td>1.097080</td>\n",
       "      <td>83799584.0</td>\n",
       "      <td>0.482287</td>\n",
       "    </tr>\n",
       "  </tbody>\n",
       "</table>\n",
       "</div>"
      ],
      "text/plain": [
       "   Adj_Close    HL_PCT   Adj_Volume  PCT_change\n",
       "0  41.156217  0.800795   65920748.0    0.046784\n",
       "1  41.040745  0.627198   85992852.0    0.293945\n",
       "2  41.033528  1.050009  132742144.0   -0.134660\n",
       "3  42.101646  0.527970   65397776.0    0.188917\n",
       "4  42.101646  1.097080   83799584.0    0.482287"
      ]
     },
     "execution_count": 11,
     "metadata": {},
     "output_type": "execute_result"
    }
   ],
   "source": [
    "df.head()"
   ]
  },
  {
   "cell_type": "code",
   "execution_count": 12,
   "metadata": {},
   "outputs": [],
   "source": [
    "df.fillna(value = -99999,inplace=True)"
   ]
  },
  {
   "cell_type": "code",
   "execution_count": 13,
   "metadata": {},
   "outputs": [],
   "source": [
    "X = df.iloc[:,:-1]\n",
    "y = df.iloc[:,:4]"
   ]
  },
  {
   "cell_type": "markdown",
   "metadata": {},
   "source": [
    "## Build and Train ML model"
   ]
  },
  {
   "cell_type": "code",
   "execution_count": 14,
   "metadata": {},
   "outputs": [],
   "source": [
    "# Splitting train and test dataset\n",
    "from sklearn.model_selection import train_test_split\n",
    "X_train,X_test,y_train,y_test = train_test_split(X,y,test_size=0.2,random_state=0)"
   ]
  },
  {
   "cell_type": "code",
   "execution_count": 15,
   "metadata": {},
   "outputs": [],
   "source": [
    "# Scaling features using normalization\n",
    "from sklearn.preprocessing import MinMaxScaler\n",
    "norm = MinMaxScaler().fit(X_train)\n",
    "\n",
    "# transform training data\n",
    "X_train_norm = norm.transform(X_train)\n",
    "X_test_norm = norm.transform(X_test)"
   ]
  },
  {
   "cell_type": "code",
   "execution_count": 16,
   "metadata": {},
   "outputs": [
    {
     "data": {
      "text/plain": [
       "LinearRegression(copy_X=True, fit_intercept=True, n_jobs=None, normalize=False)"
      ]
     },
     "execution_count": 16,
     "metadata": {},
     "output_type": "execute_result"
    }
   ],
   "source": [
    "# Perform Linear regression\n",
    "from sklearn.linear_model import LinearRegression\n",
    "# Create a model and fit it\n",
    "model = LinearRegression()\n",
    "model.fit(X_train,y_train)"
   ]
  },
  {
   "cell_type": "code",
   "execution_count": 17,
   "metadata": {},
   "outputs": [],
   "source": [
    "# Predictions\n",
    "y_pred = model.predict(X_test_norm)"
   ]
  },
  {
   "cell_type": "markdown",
   "metadata": {},
   "source": [
    "## Test Model"
   ]
  },
  {
   "cell_type": "code",
   "execution_count": 18,
   "metadata": {},
   "outputs": [
    {
     "name": "stdout",
     "output_type": "stream",
     "text": [
      "Mean squared error:  1.535088332206915e+16\n"
     ]
    }
   ],
   "source": [
    "from sklearn.metrics import mean_squared_error \n",
    "mse = mean_squared_error(y_test,y_pred)\n",
    "print(\"Mean squared error: \",round(mse))"
   ]
  },
  {
   "cell_type": "code",
   "execution_count": null,
   "metadata": {},
   "outputs": [],
   "source": []
  }
 ],
 "metadata": {
  "kernelspec": {
   "display_name": "Python 3",
   "language": "python",
   "name": "python3"
  },
  "language_info": {
   "codemirror_mode": {
    "name": "ipython",
    "version": 3
   },
   "file_extension": ".py",
   "mimetype": "text/x-python",
   "name": "python",
   "nbconvert_exporter": "python",
   "pygments_lexer": "ipython3",
   "version": "3.7.6"
  }
 },
 "nbformat": 4,
 "nbformat_minor": 4
}
